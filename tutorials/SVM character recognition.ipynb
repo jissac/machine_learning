{
 "cells": [
  {
   "cell_type": "code",
   "execution_count": 90,
   "metadata": {
    "collapsed": true
   },
   "outputs": [],
   "source": [
    "# https://pythonprogramming.net/support-vector-machine-svm-example-tutorial-scikit-learn-python/?completed=/machine-learning-python-sklearn-intro/\n",
    "# "
   ]
  },
  {
   "cell_type": "code",
   "execution_count": 91,
   "metadata": {
    "collapsed": true
   },
   "outputs": [],
   "source": [
    "import matplotlib.pyplot as plt\n",
    "import pandas as pd\n",
    "from sklearn import datasets\n",
    "from sklearn import svm"
   ]
  },
  {
   "cell_type": "code",
   "execution_count": 92,
   "metadata": {},
   "outputs": [
    {
     "name": "stdout",
     "output_type": "stream",
     "text": [
      "Data:\n",
      "(1797, 64)\n",
      "[[  0.   0.   5. ...,   0.   0.   0.]\n",
      " [  0.   0.   0. ...,  10.   0.   0.]\n",
      " [  0.   0.   0. ...,  16.   9.   0.]\n",
      " ..., \n",
      " [  0.   0.   1. ...,   6.   0.   0.]\n",
      " [  0.   0.   2. ...,  12.   0.   0.]\n",
      " [  0.   0.  10. ...,  12.   1.   0.]]\n",
      "///////////////\n",
      "Images:\n",
      "(1797, 8, 8)\n",
      "[[[  0.   0.   5. ...,   1.   0.   0.]\n",
      "  [  0.   0.  13. ...,  15.   5.   0.]\n",
      "  [  0.   3.  15. ...,  11.   8.   0.]\n",
      "  ..., \n",
      "  [  0.   4.  11. ...,  12.   7.   0.]\n",
      "  [  0.   2.  14. ...,  12.   0.   0.]\n",
      "  [  0.   0.   6. ...,   0.   0.   0.]]\n",
      "\n",
      " [[  0.   0.   0. ...,   5.   0.   0.]\n",
      "  [  0.   0.   0. ...,   9.   0.   0.]\n",
      "  [  0.   0.   3. ...,   6.   0.   0.]\n",
      "  ..., \n",
      "  [  0.   0.   1. ...,   6.   0.   0.]\n",
      "  [  0.   0.   1. ...,   6.   0.   0.]\n",
      "  [  0.   0.   0. ...,  10.   0.   0.]]\n",
      "\n",
      " [[  0.   0.   0. ...,  12.   0.   0.]\n",
      "  [  0.   0.   3. ...,  14.   0.   0.]\n",
      "  [  0.   0.   8. ...,  16.   0.   0.]\n",
      "  ..., \n",
      "  [  0.   9.  16. ...,   0.   0.   0.]\n",
      "  [  0.   3.  13. ...,  11.   5.   0.]\n",
      "  [  0.   0.   0. ...,  16.   9.   0.]]\n",
      "\n",
      " ..., \n",
      " [[  0.   0.   1. ...,   1.   0.   0.]\n",
      "  [  0.   0.  13. ...,   2.   1.   0.]\n",
      "  [  0.   0.  16. ...,  16.   5.   0.]\n",
      "  ..., \n",
      "  [  0.   0.  16. ...,  15.   0.   0.]\n",
      "  [  0.   0.  15. ...,  16.   0.   0.]\n",
      "  [  0.   0.   2. ...,   6.   0.   0.]]\n",
      "\n",
      " [[  0.   0.   2. ...,   0.   0.   0.]\n",
      "  [  0.   0.  14. ...,  15.   1.   0.]\n",
      "  [  0.   4.  16. ...,  16.   7.   0.]\n",
      "  ..., \n",
      "  [  0.   0.   0. ...,  16.   2.   0.]\n",
      "  [  0.   0.   4. ...,  16.   2.   0.]\n",
      "  [  0.   0.   5. ...,  12.   0.   0.]]\n",
      "\n",
      " [[  0.   0.  10. ...,   1.   0.   0.]\n",
      "  [  0.   2.  16. ...,   1.   0.   0.]\n",
      "  [  0.   0.  15. ...,  15.   0.   0.]\n",
      "  ..., \n",
      "  [  0.   4.  16. ...,  16.   6.   0.]\n",
      "  [  0.   8.  16. ...,  16.   8.   0.]\n",
      "  [  0.   1.   8. ...,  12.   1.   0.]]]\n"
     ]
    },
    {
     "data": {
      "text/plain": [
       "<matplotlib.figure.Figure at 0x112a55750>"
      ]
     },
     "metadata": {},
     "output_type": "display_data"
    },
    {
     "data": {
      "image/png": "[encoded data removed]",
      "text/plain": [
       "<matplotlib.figure.Figure at 0x112f2ad90>"
      ]
     },
     "metadata": {},
     "output_type": "display_data"
    },
    {
     "name": "stdout",
     "output_type": "stream",
     "text": [
      "Targets:\n",
      "[0 1 2 3 4 5 6 7 8 9]\n",
      "[0 1 2 ..., 8 9 8]\n",
      "(1797,)\n"
     ]
    }
   ],
   "source": [
    "# load data and visualize images\n",
    "digits = datasets.load_digits()\n",
    "print('Data:')\n",
    "print(digits.data.shape)\n",
    "print(digits.data)\n",
    "print('///////////////')\n",
    "print('Images:')\n",
    "print(digits.images.shape)\n",
    "print(digits.images)\n",
    "plt.gray()\n",
    "plt.matshow(digits.images[1])\n",
    "plt.show()\n",
    "print('Targets:')\n",
    "print(digits.target_names)\n",
    "print(digits.target)\n",
    "print(digits.target.shape)"
   ]
  },
  {
   "cell_type": "code",
   "execution_count": 97,
   "metadata": {},
   "outputs": [
    {
     "data": {
      "text/plain": [
       "SVC(C=100, cache_size=200, class_weight=None, coef0=0.0,\n",
       "  decision_function_shape=None, degree=3, gamma=0.001, kernel='rbf',\n",
       "  max_iter=-1, probability=False, random_state=None, shrinking=True,\n",
       "  tol=0.001, verbose=False)"
      ]
     },
     "execution_count": 97,
     "metadata": {},
     "output_type": "execute_result"
    }
   ],
   "source": [
    "clf = svm.SVC()\n",
    "clf = svm.SVC(gamma=0.001, C = 100)\n",
    "X,y = digits.data[:-10],digits.target[:-10]\n",
    "clf.fit(X,y)"
   ]
  },
  {
   "cell_type": "code",
   "execution_count": 95,
   "metadata": {},
   "outputs": [
    {
     "name": "stdout",
     "output_type": "stream",
     "text": [
      "[[  0.   0.   5. ...,   0.   0.   0.]\n",
      " [  0.   0.   0. ...,  10.   0.   0.]\n",
      " [  0.   0.   0. ...,  16.   9.   0.]\n",
      " ..., \n",
      " [  0.   0.   1. ...,   4.   0.   0.]\n",
      " [  0.   1.  10. ...,   0.   0.   0.]\n",
      " [  0.   0.   4. ...,   9.   0.   0.]]\n",
      "(1787, 64)\n"
     ]
    }
   ],
   "source": [
    "print(X)\n",
    "print(X.shape)"
   ]
  },
  {
   "cell_type": "code",
   "execution_count": 98,
   "metadata": {},
   "outputs": [
    {
     "name": "stdout",
     "output_type": "stream",
     "text": [
      "('Prediction:', array([8]))\n"
     ]
    },
    {
     "name": "stderr",
     "output_type": "stream",
     "text": [
      "/Users/JI/miniconda2/lib/python2.7/site-packages/sklearn/utils/validation.py:395: DeprecationWarning: Passing 1d arrays as data is deprecated in 0.17 and will raise ValueError in 0.19. Reshape your data either using X.reshape(-1, 1) if your data has a single feature or X.reshape(1, -1) if it contains a single sample.\n",
      "  DeprecationWarning)\n"
     ]
    },
    {
     "data": {
      "image/png": "[encoded data removed]",
      "text/plain": [
       "<matplotlib.figure.Figure at 0x112f2add0>"
      ]
     },
     "metadata": {},
     "output_type": "display_data"
    }
   ],
   "source": [
    "print('Prediction:', clf.predict(digits.data[-1]))\n",
    "plt.imshow(digits.images[-1], cmap=plt.cm.gray_r, interpolation='nearest')\n",
    "plt.show()"
   ]
  },
  {
   "cell_type": "code",
   "execution_count": 108,
   "metadata": {},
   "outputs": [
    {
     "name": "stdout",
     "output_type": "stream",
     "text": [
      "2\n"
     ]
    },
    {
     "ename": "TypeError",
     "evalue": "list indices must be integers, not tuple",
     "output_type": "error",
     "traceback": [
      "\u001b[0;31m---------------------------------------------------------------------------\u001b[0m",
      "\u001b[0;31mTypeError\u001b[0m                                 Traceback (most recent call last)",
      "\u001b[0;32m<ipython-input-108-0c3d41545e31>\u001b[0m in \u001b[0;36m<module>\u001b[0;34m()\u001b[0m\n\u001b[1;32m      1\u001b[0m \u001b[0mdf\u001b[0m \u001b[0;34m=\u001b[0m \u001b[0;34m[\u001b[0m\u001b[0;36m1\u001b[0m\u001b[0;34m,\u001b[0m\u001b[0;36m2\u001b[0m\u001b[0;34m,\u001b[0m\u001b[0;36m3\u001b[0m\u001b[0;34m,\u001b[0m\u001b[0;36m4\u001b[0m\u001b[0;34m,\u001b[0m\u001b[0;36m5\u001b[0m\u001b[0;34m]\u001b[0m\u001b[0;34m\u001b[0m\u001b[0m\n\u001b[1;32m      2\u001b[0m \u001b[0;32mprint\u001b[0m\u001b[0;34m(\u001b[0m\u001b[0mlen\u001b[0m\u001b[0;34m(\u001b[0m\u001b[0mdf\u001b[0m\u001b[0;34m)\u001b[0m\u001b[0;34m//\u001b[0m\u001b[0;36m2\u001b[0m\u001b[0;34m)\u001b[0m\u001b[0;34m\u001b[0m\u001b[0m\n\u001b[0;32m----> 3\u001b[0;31m \u001b[0;32mprint\u001b[0m\u001b[0;34m(\u001b[0m\u001b[0mdf\u001b[0m\u001b[0;34m[\u001b[0m\u001b[0mlen\u001b[0m\u001b[0;34m(\u001b[0m\u001b[0mdf\u001b[0m\u001b[0;34m)\u001b[0m\u001b[0;34m//\u001b[0m\u001b[0;36m2\u001b[0m\u001b[0;34m:\u001b[0m\u001b[0;34m,\u001b[0m\u001b[0;34m]\u001b[0m\u001b[0;34m)\u001b[0m\u001b[0;34m\u001b[0m\u001b[0m\n\u001b[0m\u001b[1;32m      4\u001b[0m \u001b[0;32mprint\u001b[0m\u001b[0;34m(\u001b[0m\u001b[0mdf\u001b[0m\u001b[0;34m[\u001b[0m\u001b[0;34m:\u001b[0m\u001b[0mlen\u001b[0m\u001b[0;34m(\u001b[0m\u001b[0mdf\u001b[0m\u001b[0;34m)\u001b[0m\u001b[0;34m//\u001b[0m\u001b[0;36m2\u001b[0m\u001b[0;34m]\u001b[0m\u001b[0;34m)\u001b[0m\u001b[0;34m\u001b[0m\u001b[0m\n",
      "\u001b[0;31mTypeError\u001b[0m: list indices must be integers, not tuple"
     ]
    }
   ],
   "source": [
    "df = [1,2,3,4,5]\n",
    "print(len(df)//2)\n",
    "print(df[len(df)//2:])\n",
    "print(df[:len(df)//2])"
   ]
  },
  {
   "cell_type": "code",
   "execution_count": null,
   "metadata": {
    "collapsed": true
   },
   "outputs": [],
   "source": []
  }
 ],
 "metadata": {
  "kernelspec": {
   "display_name": "Python 2",
   "language": "python",
   "name": "python2"
  },
  "language_info": {
   "codemirror_mode": {
    "name": "ipython",
    "version": 2
   },
   "file_extension": ".py",
   "mimetype": "text/x-python",
   "name": "python",
   "nbconvert_exporter": "python",
   "pygments_lexer": "ipython2",
   "version": "2.7.12"
  }
 },
 "nbformat": 4,
 "nbformat_minor": 2
}
