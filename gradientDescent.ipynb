{
 "cells": [
  {
   "cell_type": "code",
   "execution_count": 1,
   "metadata": {},
   "outputs": [],
   "source": [
    "import numpy as np\n",
    "import matplotlib.pyplot as plt\n",
    "\n",
    "# create linearly distributed set of points\n",
    "x = np.random.uniform(-4,4,500)\n",
    "y = x + np.random.standard_normal(500)+2.5"
   ]
  },
  {
   "cell_type": "code",
   "execution_count": 2,
   "metadata": {},
   "outputs": [
    {
     "data": {
      "image/png": "[encoded data removed]",
      "text/plain": [
       "<matplotlib.figure.Figure at 0x105cbfa10>"
      ]
     },
     "metadata": {},
     "output_type": "display_data"
    }
   ],
   "source": [
    "plt.plot(x,y,'o')\n",
    "plt.show()"
   ]
  },
  {
   "cell_type": "code",
   "execution_count": 3,
   "metadata": {
    "collapsed": true
   },
   "outputs": [],
   "source": [
    "# cost function\n",
    "def cost(X, Y, theta):\n",
    "    J = np.dot((np.dot(X,theta) - Y).T, (np.dot(X, theta) - Y))\n",
    "    J = (2*m)*J\n",
    "    return J"
   ]
  },
  {
   "cell_type": "code",
   "execution_count": null,
   "metadata": {},
   "outputs": [],
   "source": [
    "alpha = 0.1 # learning rate\n",
    "theta = np.array([[0,0]]).T # initialize theta\n",
    "X = np.c_[np.ones(500),x]\n",
    "Y = np.c_[y]\n",
    "m = len(Y)\n",
    "X_1 = np.c_[x].T\n",
    "#print(X, x)\n",
    "num_iters = 100\n",
    "cost_history = []\n",
    "theta_history = []\n",
    "for i in range(num_iters):\n",
    "    a = np.sum(theta[0]- alpha * (1/m) * np.sum((np.dot(X,theta)- Y)))\n",
    "    b = np.sum(theta[1] - alpha * (1/m) * np.sum(np.dot(X_1,(np.dot(X,theta)-Y))))\n",
    "    theta = np.array([[a],[b]])\n",
    "    #print(a,b)\n",
    "    cost_history.append(cost(X,Y,theta))\n",
    "    theta_history.append(theta)\n",
    "    #print(\"cost and theta\",cost_history,theta_history)\n",
    "    if i in (1,3,7,10,14,num_iters):\n",
    "        plt.plot(x,a+x*b)\n",
    "        plt.suptitle(\"Linear regression by gradient descent\")\n",
    "        plt.xlabel('x')\n",
    "        plt.ylabel('y')\n",
    "        plt.show()\n",
    "    elif i in range(20,num_iters,10):\n",
    "        plt.plot(x,a+x*b)\n",
    "print(theta)"
   ]
  },
  {
   "cell_type": "code",
   "execution_count": null,
   "metadata": {
    "collapsed": true
   },
   "outputs": [],
   "source": []
  },
  {
   "cell_type": "code",
   "execution_count": null,
   "metadata": {
    "collapsed": true
   },
   "outputs": [],
   "source": []
  }
 ],
 "metadata": {
  "kernelspec": {
   "display_name": "Python 2",
   "language": "python",
   "name": "python2"
  },
  "language_info": {
   "codemirror_mode": {
    "name": "ipython",
    "version": 2
   },
   "file_extension": ".py",
   "mimetype": "text/x-python",
   "name": "python",
   "nbconvert_exporter": "python",
   "pygments_lexer": "ipython2",
   "version": "2.7.12"
  }
 },
 "nbformat": 4,
 "nbformat_minor": 2
}
